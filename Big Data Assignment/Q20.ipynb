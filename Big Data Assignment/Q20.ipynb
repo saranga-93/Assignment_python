{
 "cells": [
  {
   "cell_type": "code",
   "execution_count": 5,
   "id": "94c43b0e-5cea-4f96-b6a7-c463c43f694a",
   "metadata": {},
   "outputs": [
    {
     "name": "stdout",
     "output_type": "stream",
     "text": [
      "Even numbers: [2, 4, 6, 8, 10]\n"
     ]
    }
   ],
   "source": [
    "num = [1, 2, 3, 4, 5, 6, 7, 8, 9, 10]\n",
    "\n",
    "evennum = list(filter(lambda x: x % 2 == 0, num))\n",
    "\n",
    "print(\"Even numbers:\",evennum)"
   ]
  },
  {
   "cell_type": "code",
   "execution_count": null,
   "id": "9cae5b84-eacc-4d6e-b822-1199c3cfbece",
   "metadata": {},
   "outputs": [],
   "source": []
  }
 ],
 "metadata": {
  "kernelspec": {
   "display_name": "Python 3 (ipykernel)",
   "language": "python",
   "name": "python3"
  },
  "language_info": {
   "codemirror_mode": {
    "name": "ipython",
    "version": 3
   },
   "file_extension": ".py",
   "mimetype": "text/x-python",
   "name": "python",
   "nbconvert_exporter": "python",
   "pygments_lexer": "ipython3",
   "version": "3.12.4"
  }
 },
 "nbformat": 4,
 "nbformat_minor": 5
}
