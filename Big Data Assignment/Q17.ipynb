{
 "cells": [
  {
   "cell_type": "code",
   "execution_count": 3,
   "id": "24b3c8c3-e5a0-46bc-863c-1ccb749bb192",
   "metadata": {},
   "outputs": [
    {
     "name": "stdout",
     "output_type": "stream",
     "text": [
      "Hello Xango\n"
     ]
    }
   ],
   "source": [
    "def greet(name):\n",
    "    print(\"Hello \"+name)\n",
    "greet(\"Xango\")"
   ]
  },
  {
   "cell_type": "code",
   "execution_count": null,
   "id": "a4024033-7dcd-4af4-ba13-50a8b6092da4",
   "metadata": {},
   "outputs": [],
   "source": []
  }
 ],
 "metadata": {
  "kernelspec": {
   "display_name": "Python 3 (ipykernel)",
   "language": "python",
   "name": "python3"
  },
  "language_info": {
   "codemirror_mode": {
    "name": "ipython",
    "version": 3
   },
   "file_extension": ".py",
   "mimetype": "text/x-python",
   "name": "python",
   "nbconvert_exporter": "python",
   "pygments_lexer": "ipython3",
   "version": "3.12.4"
  }
 },
 "nbformat": 4,
 "nbformat_minor": 5
}
