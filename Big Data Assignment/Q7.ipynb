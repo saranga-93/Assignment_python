{
 "cells": [
  {
   "cell_type": "code",
   "execution_count": 1,
   "id": "ba1524db-409f-4817-9242-16dad8ea81e0",
   "metadata": {},
   "outputs": [
    {
     "name": "stdout",
     "output_type": "stream",
     "text": [
      "POsitive\n",
      "Negative\n"
     ]
    }
   ],
   "source": [
    "def pos_neg(a):\n",
    "    if a>0:\n",
    "        print(\"POsitive\")\n",
    "    else:\n",
    "        print(\"Negative\")\n",
    "\n",
    "pos_neg(2)\n",
    "pos_neg(-2)"
   ]
  },
  {
   "cell_type": "code",
   "execution_count": null,
   "id": "93fbffca-fe3d-4234-b823-d26a0174f5e3",
   "metadata": {},
   "outputs": [],
   "source": []
  }
 ],
 "metadata": {
  "kernelspec": {
   "display_name": "Python 3 (ipykernel)",
   "language": "python",
   "name": "python3"
  },
  "language_info": {
   "codemirror_mode": {
    "name": "ipython",
    "version": 3
   },
   "file_extension": ".py",
   "mimetype": "text/x-python",
   "name": "python",
   "nbconvert_exporter": "python",
   "pygments_lexer": "ipython3",
   "version": "3.12.4"
  }
 },
 "nbformat": 4,
 "nbformat_minor": 5
}
