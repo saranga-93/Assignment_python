{
 "cells": [
  {
   "cell_type": "code",
   "execution_count": 3,
   "id": "a8d772f6-9572-4f57-886d-875d84a6f84f",
   "metadata": {},
   "outputs": [
    {
     "name": "stdout",
     "output_type": "stream",
     "text": [
      "C is greatest\n"
     ]
    }
   ],
   "source": [
    "\n",
    "def greatest_three(A,B,C):\n",
    "    if A>B and A>C:\n",
    "        print(\"A is greatest\")\n",
    "    elif B>A and B>C:\n",
    "        print(\"B is greatest\")\n",
    "    else:\n",
    "        print(\"C is greatest\")\n",
    "\n",
    "greatest_three(10,20,30)"
   ]
  },
  {
   "cell_type": "code",
   "execution_count": null,
   "id": "0b1d4f1b-a157-4907-abd0-18d856a352cf",
   "metadata": {},
   "outputs": [],
   "source": []
  }
 ],
 "metadata": {
  "kernelspec": {
   "display_name": "Python 3 (ipykernel)",
   "language": "python",
   "name": "python3"
  },
  "language_info": {
   "codemirror_mode": {
    "name": "ipython",
    "version": 3
   },
   "file_extension": ".py",
   "mimetype": "text/x-python",
   "name": "python",
   "nbconvert_exporter": "python",
   "pygments_lexer": "ipython3",
   "version": "3.12.4"
  }
 },
 "nbformat": 4,
 "nbformat_minor": 5
}
