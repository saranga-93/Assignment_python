{
 "cells": [
  {
   "cell_type": "code",
   "execution_count": 1,
   "id": "ef04dce4-bd0d-4491-98e1-9880bdea9d02",
   "metadata": {},
   "outputs": [
    {
     "name": "stdout",
     "output_type": "stream",
     "text": [
      "This is the answer to question no 27.\n",
      "\n"
     ]
    }
   ],
   "source": [
    "fil = \"Assignment2.txt\"\n",
    "\n",
    "data = \"This is the answer to question no 27.\"\n",
    "\n",
    "with open(fil, 'w') as file:\n",
    "    file.write(data + \"\\n\")\n",
    "\n",
    "with open(fil, 'r') as file:\n",
    "    content = file.read()\n",
    "\n",
    "print(content)\n"
   ]
  },
  {
   "cell_type": "code",
   "execution_count": null,
   "id": "07956189-b662-480a-bdf4-56b7dc5f0fb6",
   "metadata": {},
   "outputs": [],
   "source": []
  }
 ],
 "metadata": {
  "kernelspec": {
   "display_name": "Python 3 (ipykernel)",
   "language": "python",
   "name": "python3"
  },
  "language_info": {
   "codemirror_mode": {
    "name": "ipython",
    "version": 3
   },
   "file_extension": ".py",
   "mimetype": "text/x-python",
   "name": "python",
   "nbconvert_exporter": "python",
   "pygments_lexer": "ipython3",
   "version": "3.12.4"
  }
 },
 "nbformat": 4,
 "nbformat_minor": 5
}
