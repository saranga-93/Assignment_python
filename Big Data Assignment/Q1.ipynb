{
 "cells": [
  {
   "cell_type": "code",
   "execution_count": 13,
   "id": "8ad7c350-4404-4c9d-adf5-b9e2ee06d319",
   "metadata": {},
   "outputs": [
    {
     "name": "stdout",
     "output_type": "stream",
     "text": [
      "Addition = 15 Subtract = 5 Product = 50 Division = 2.0 Exponential = 100000 Modulus = 0\n",
      "15\n",
      "Equal to 10\n",
      "C is greatest\n",
      "Atleast one number has boolean value as True\n"
     ]
    }
   ],
   "source": [
    "A=10\n",
    "B=5\n",
    "#arithmetic operators\n",
    "add=A+B\n",
    "Sub=A-B\n",
    "Prod=A*B\n",
    "Div=A/B\n",
    "Expo=A**B\n",
    "Mod=A%B\n",
    "print(\"Addition = \" +str(add) + \" Subtract = \" +str(Sub) + \" Product = \" +str(Prod) + \" Division = \" +str(Div) + \" Exponential = \" +str(Expo) + \" Modulus = \" +str(Mod))\n",
    "\n",
    "# Assignment operator\n",
    "\n",
    "A=10\n",
    "B=15\n",
    "A=B\n",
    "print(A)\n",
    "\n",
    "#Comparison operator\n",
    "\n",
    "A=10\n",
    "\n",
    "if A>10:\n",
    "    print(\"Greater than 10\")\n",
    "elif A==10:\n",
    "    print(\"Equal to 10\")\n",
    "else :\n",
    "    print(\"Lesser than 10\")\n",
    "\n",
    "#logical operator\n",
    "\n",
    "A=10\n",
    "B=20\n",
    "C=30\n",
    "\n",
    "if A>B and A>C:\n",
    "    print(\"A is greatest\")\n",
    "elif B>A and B>C:\n",
    "    print(\"B is greatest\")\n",
    "else:\n",
    "    print(\"C is greatest\")\n",
    "\n",
    "\n",
    "a = 10\n",
    "b = 12\n",
    "c = 0\n",
    "if a or b or c:\n",
    "    print(\"Atleast one number has boolean value as True\")\n",
    "else:\n",
    "    print(\"All the numbers have boolean value as False\") "
   ]
  },
  {
   "cell_type": "code",
   "execution_count": null,
   "id": "3b18d10a-f539-443f-80cc-220d63a4652d",
   "metadata": {},
   "outputs": [],
   "source": []
  }
 ],
 "metadata": {
  "kernelspec": {
   "display_name": "Python 3 (ipykernel)",
   "language": "python",
   "name": "python3"
  },
  "language_info": {
   "codemirror_mode": {
    "name": "ipython",
    "version": 3
   },
   "file_extension": ".py",
   "mimetype": "text/x-python",
   "name": "python",
   "nbconvert_exporter": "python",
   "pygments_lexer": "ipython3",
   "version": "3.12.4"
  }
 },
 "nbformat": 4,
 "nbformat_minor": 5
}
