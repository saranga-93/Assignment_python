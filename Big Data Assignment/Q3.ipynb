{
 "cells": [
  {
   "cell_type": "code",
   "execution_count": 1,
   "id": "b84c2b1d-6504-4bdb-a5db-b5159fe975a9",
   "metadata": {},
   "outputs": [
    {
     "name": "stdout",
     "output_type": "stream",
     "text": [
      "Addition = 15 Subtract = 5 Product = 50 Division = 2.0 Exponential = 100000 Modulus = 0\n"
     ]
    }
   ],
   "source": [
    "A=10\n",
    "B=5\n",
    "#arithmetic operators\n",
    "add=A+B\n",
    "Sub=A-B\n",
    "Prod=A*B\n",
    "Div=A/B\n",
    "Expo=A**B\n",
    "Mod=A%B\n",
    "print(\"Addition = \" +str(add) + \" Subtract = \" +str(Sub) + \" Product = \" +str(Prod) + \" Division = \" +str(Div) + \" Exponential = \" +str(Expo) + \" Modulus = \" +str(Mod))\n"
   ]
  },
  {
   "cell_type": "code",
   "execution_count": null,
   "id": "a2fe5650-5101-4326-9a00-9e9da37da0b6",
   "metadata": {},
   "outputs": [],
   "source": []
  }
 ],
 "metadata": {
  "kernelspec": {
   "display_name": "Python 3 (ipykernel)",
   "language": "python",
   "name": "python3"
  },
  "language_info": {
   "codemirror_mode": {
    "name": "ipython",
    "version": 3
   },
   "file_extension": ".py",
   "mimetype": "text/x-python",
   "name": "python",
   "nbconvert_exporter": "python",
   "pygments_lexer": "ipython3",
   "version": "3.12.4"
  }
 },
 "nbformat": 4,
 "nbformat_minor": 5
}
