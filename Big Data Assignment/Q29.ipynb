{
 "cells": [
  {
   "cell_type": "code",
   "execution_count": 1,
   "id": "a20c7dd6-7dd8-4dd4-b00a-b10c68d4ccd2",
   "metadata": {},
   "outputs": [
    {
     "name": "stdin",
     "output_type": "stream",
     "text": [
      "Enter the numerator:  10\n",
      "Enter the denominator:  g\n"
     ]
    },
    {
     "name": "stdout",
     "output_type": "stream",
     "text": [
      "Please enter numeric values.\n"
     ]
    }
   ],
   "source": [
    "try:\n",
    "    num= float(input(\"Enter the numerator: \"))\n",
    "    den = float(input(\"Enter the denominator: \"))\n",
    "\n",
    "    result = num / den\n",
    "    print(\"Result:\", result)\n",
    "\n",
    "\n",
    "except ZeroDivisionError:\n",
    "    print(\"Cannot divide by zero.\")\n",
    "\n",
    "except NameError:\n",
    "    print(\"Undefined variable encountered.\")\n",
    "\n",
    "except ValueError:\n",
    "    print(\"Please enter numeric values.\")\n",
    "\n",
    "except Exception as e:\n",
    "    print(\"An unexpected error occurred:\", e)\n"
   ]
  },
  {
   "cell_type": "code",
   "execution_count": null,
   "id": "fc997b10-4761-41d4-a947-5354d9ee9e4b",
   "metadata": {},
   "outputs": [],
   "source": []
  }
 ],
 "metadata": {
  "kernelspec": {
   "display_name": "Python 3 (ipykernel)",
   "language": "python",
   "name": "python3"
  },
  "language_info": {
   "codemirror_mode": {
    "name": "ipython",
    "version": 3
   },
   "file_extension": ".py",
   "mimetype": "text/x-python",
   "name": "python",
   "nbconvert_exporter": "python",
   "pygments_lexer": "ipython3",
   "version": "3.12.4"
  }
 },
 "nbformat": 4,
 "nbformat_minor": 5
}
