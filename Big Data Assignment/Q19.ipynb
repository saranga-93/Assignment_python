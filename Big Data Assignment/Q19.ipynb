{
 "cells": [
  {
   "cell_type": "code",
   "execution_count": 1,
   "id": "005896b8-6d8d-4aea-92c6-68e0dd89e20e",
   "metadata": {},
   "outputs": [
    {
     "name": "stdout",
     "output_type": "stream",
     "text": [
      "10\n",
      "10\n"
     ]
    }
   ],
   "source": [
    "#19) Write a program to double a given number and add two numbers using lambda()\n",
    "\n",
    "double_number = lambda x: x * 2\n",
    "add_numbers = lambda a, b: a + b\n",
    "print(double_number(5))\n",
    "print(add_numbers(3, 7))"
   ]
  },
  {
   "cell_type": "code",
   "execution_count": null,
   "id": "bf21612a-a247-448f-bbbf-3b333e4c101c",
   "metadata": {},
   "outputs": [],
   "source": []
  }
 ],
 "metadata": {
  "kernelspec": {
   "display_name": "Python 3 (ipykernel)",
   "language": "python",
   "name": "python3"
  },
  "language_info": {
   "codemirror_mode": {
    "name": "ipython",
    "version": 3
   },
   "file_extension": ".py",
   "mimetype": "text/x-python",
   "name": "python",
   "nbconvert_exporter": "python",
   "pygments_lexer": "ipython3",
   "version": "3.12.4"
  }
 },
 "nbformat": 4,
 "nbformat_minor": 5
}
