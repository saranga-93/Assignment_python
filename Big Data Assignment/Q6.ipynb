{
 "cells": [
  {
   "cell_type": "code",
   "execution_count": 3,
   "id": "a0f7924b-3048-4bde-ac7a-f7a38f473dc7",
   "metadata": {},
   "outputs": [
    {
     "name": "stdout",
     "output_type": "stream",
     "text": [
      "True\n",
      "False\n"
     ]
    }
   ],
   "source": [
    "list1=[\"Mango\",\"Apple\",\"Banana\",\"Avacado\"]\n",
    "#Membership operator\n",
    "print(\"Apple\" in list1)\n",
    "\n",
    "#identity operator\n",
    "fin=\"Avacado\"\n",
    "print(fin is list1)\n"
   ]
  },
  {
   "cell_type": "code",
   "execution_count": null,
   "id": "1a347fe4-bd5a-4a37-a9f7-648ceb1ddce1",
   "metadata": {},
   "outputs": [],
   "source": []
  }
 ],
 "metadata": {
  "kernelspec": {
   "display_name": "Python 3 (ipykernel)",
   "language": "python",
   "name": "python3"
  },
  "language_info": {
   "codemirror_mode": {
    "name": "ipython",
    "version": 3
   },
   "file_extension": ".py",
   "mimetype": "text/x-python",
   "name": "python",
   "nbconvert_exporter": "python",
   "pygments_lexer": "ipython3",
   "version": "3.12.4"
  }
 },
 "nbformat": 4,
 "nbformat_minor": 5
}
