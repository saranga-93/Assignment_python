{
 "cells": [
  {
   "cell_type": "code",
   "execution_count": 1,
   "id": "8e8c4091-68dc-4542-968c-788db3ef3ec2",
   "metadata": {},
   "outputs": [
    {
     "name": "stdin",
     "output_type": "stream",
     "text": [
      "Enter the numerator:  10\n",
      "Enter the denominator:  0\n"
     ]
    },
    {
     "name": "stdout",
     "output_type": "stream",
     "text": [
      "Error: Cannot divide by zero. Please enter a non-zero denominator.\n"
     ]
    }
   ],
   "source": [
    "try:\n",
    "    num = float(input(\"Enter the numerator: \"))\n",
    "    den = float(input(\"Enter the denominator: \"))\n",
    "    res = num / den\n",
    "    print(\"Result:\", res)\n",
    "except ZeroDivisionError:\n",
    "    print(\"Error: Cannot divide by zero. Please enter a non-zero denominator.\")"
   ]
  },
  {
   "cell_type": "code",
   "execution_count": null,
   "id": "7599290b-2c98-49bf-b446-d4077099d86c",
   "metadata": {},
   "outputs": [],
   "source": []
  }
 ],
 "metadata": {
  "kernelspec": {
   "display_name": "Python 3 (ipykernel)",
   "language": "python",
   "name": "python3"
  },
  "language_info": {
   "codemirror_mode": {
    "name": "ipython",
    "version": 3
   },
   "file_extension": ".py",
   "mimetype": "text/x-python",
   "name": "python",
   "nbconvert_exporter": "python",
   "pygments_lexer": "ipython3",
   "version": "3.12.4"
  }
 },
 "nbformat": 4,
 "nbformat_minor": 5
}
