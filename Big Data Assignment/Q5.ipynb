{
 "cells": [
  {
   "cell_type": "code",
   "execution_count": 1,
   "id": "de3cc6f4-b2c0-41e0-8454-84dde9d0bf1c",
   "metadata": {},
   "outputs": [
    {
     "name": "stdout",
     "output_type": "stream",
     "text": [
      "Expression: z = (v + w) * x / y\n",
      "a: v + w = 15\n",
      "b: (v + w) * x = 120\n",
      "c: (v + w) * x / y = 60.0\n",
      "Final Result: z = 60.0\n"
     ]
    }
   ],
   "source": [
    "v = 10\n",
    "w = 5\n",
    "x = 8\n",
    "y = 2\n",
    "\n",
    "print(\"Expression: z = (v + w) * x / y\")\n",
    "\n",
    "a = v + w        \n",
    "print(\"a: v + w =\", a)\n",
    "\n",
    "b = a * x        \n",
    "print(\"b: (v + w) * x =\", b)\n",
    "\n",
    "c = b / y          \n",
    "print(\"c: (v + w) * x / y =\", c)\n",
    "\n",
    "z = c\n",
    "print(\"Final Result: z =\", z)"
   ]
  },
  {
   "cell_type": "code",
   "execution_count": null,
   "id": "f6fe0e09-e5ca-43f1-9b76-d01292b898a3",
   "metadata": {},
   "outputs": [],
   "source": []
  }
 ],
 "metadata": {
  "kernelspec": {
   "display_name": "Python 3 (ipykernel)",
   "language": "python",
   "name": "python3"
  },
  "language_info": {
   "codemirror_mode": {
    "name": "ipython",
    "version": 3
   },
   "file_extension": ".py",
   "mimetype": "text/x-python",
   "name": "python",
   "nbconvert_exporter": "python",
   "pygments_lexer": "ipython3",
   "version": "3.12.4"
  }
 },
 "nbformat": 4,
 "nbformat_minor": 5
}
