{
 "cells": [
  {
   "cell_type": "code",
   "execution_count": 10,
   "id": "65514ee4-73ef-46e9-a4a0-5fb7aa2f9757",
   "metadata": {},
   "outputs": [],
   "source": [
    "file = \"Assignment.txt\"\n",
    "\n",
    "with open(file, 'a') as file:\n",
    "    file.write(\"hi python programming\\n\")\n",
    "file.close()"
   ]
  },
  {
   "cell_type": "code",
   "execution_count": null,
   "id": "b879b1ff-1293-4e0f-8f04-51dfc393d8d5",
   "metadata": {},
   "outputs": [],
   "source": []
  }
 ],
 "metadata": {
  "kernelspec": {
   "display_name": "Python 3 (ipykernel)",
   "language": "python",
   "name": "python3"
  },
  "language_info": {
   "codemirror_mode": {
    "name": "ipython",
    "version": 3
   },
   "file_extension": ".py",
   "mimetype": "text/x-python",
   "name": "python",
   "nbconvert_exporter": "python",
   "pygments_lexer": "ipython3",
   "version": "3.12.4"
  }
 },
 "nbformat": 4,
 "nbformat_minor": 5
}
