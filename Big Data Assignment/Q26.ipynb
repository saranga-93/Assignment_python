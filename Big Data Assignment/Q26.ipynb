{
 "cells": [
  {
   "cell_type": "code",
   "execution_count": 5,
   "id": "0ed16b66-2c1d-49d0-8f26-241afd6070f2",
   "metadata": {},
   "outputs": [
    {
     "name": "stdout",
     "output_type": "stream",
     "text": [
      "Hello world\n",
      "hi python programming\n",
      "But Java is Best\n",
      "\n"
     ]
    }
   ],
   "source": [
    "fil = \"Assignment.txt\"\n",
    "\n",
    "data = \"But Java is Best\"\n",
    "\n",
    "with open(fil, 'a') as file:\n",
    "    file.write(data+ \"\\n\")\n",
    "\n",
    "with open(fil, 'r') as file:\n",
    "    content = file.read()\n",
    "print(content)\n"
   ]
  },
  {
   "cell_type": "code",
   "execution_count": null,
   "id": "035a64cf-60e6-441e-bf85-387eb75a0600",
   "metadata": {},
   "outputs": [],
   "source": []
  }
 ],
 "metadata": {
  "kernelspec": {
   "display_name": "Python 3 (ipykernel)",
   "language": "python",
   "name": "python3"
  },
  "language_info": {
   "codemirror_mode": {
    "name": "ipython",
    "version": 3
   },
   "file_extension": ".py",
   "mimetype": "text/x-python",
   "name": "python",
   "nbconvert_exporter": "python",
   "pygments_lexer": "ipython3",
   "version": "3.12.4"
  }
 },
 "nbformat": 4,
 "nbformat_minor": 5
}
