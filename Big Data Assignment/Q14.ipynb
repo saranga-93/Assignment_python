{
 "cells": [
  {
   "cell_type": "code",
   "execution_count": 3,
   "id": "fd7e4f10-6c0d-4f0e-882d-c3d053283a33",
   "metadata": {},
   "outputs": [
    {
     "name": "stdout",
     "output_type": "stream",
     "text": [
      "Type of array: <class 'numpy.ndarray'>\n",
      "Number of axes (dimensions) of array: 2\n",
      "Shape of array: (2, 5)\n",
      "Type of elements in array: int32\n"
     ]
    }
   ],
   "source": [
    "import numpy as np\n",
    "arr = np.array([[1, 2, 3, 4, 5],[6,7,8,9,10]])\n",
    "print(\"Type of array:\", type(arr))\n",
    "print(\"Number of axes (dimensions) of array:\", arr.ndim)\n",
    "print(\"Shape of array:\", arr.shape)\n",
    "print(\"Type of elements in array:\", arr.dtype)"
   ]
  },
  {
   "cell_type": "code",
   "execution_count": null,
   "id": "ef7792ee-f088-4943-96fa-b8d0c1bfdf0c",
   "metadata": {},
   "outputs": [],
   "source": []
  }
 ],
 "metadata": {
  "kernelspec": {
   "display_name": "Python 3 (ipykernel)",
   "language": "python",
   "name": "python3"
  },
  "language_info": {
   "codemirror_mode": {
    "name": "ipython",
    "version": 3
   },
   "file_extension": ".py",
   "mimetype": "text/x-python",
   "name": "python",
   "nbconvert_exporter": "python",
   "pygments_lexer": "ipython3",
   "version": "3.12.4"
  }
 },
 "nbformat": 4,
 "nbformat_minor": 5
}
